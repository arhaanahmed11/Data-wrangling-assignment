{
  "nbformat": 4,
  "nbformat_minor": 0,
  "metadata": {
    "colab": {
      "provenance": []
    },
    "kernelspec": {
      "name": "python3",
      "display_name": "Python 3"
    },
    "language_info": {
      "name": "python"
    }
  },
  "cells": [
    {
      "cell_type": "code",
      "execution_count": 4,
      "metadata": {
        "id": "Nt26eExghjHO"
      },
      "outputs": [],
      "source": [
        "import pandas as pd\n",
        "import numpy as np\n",
        "\n",
        "# Load the large dataset\n",
        "df = pd.read_csv(\"/large_synthetic_customer_data .csv\")\n",
        "\n"
      ]
    },
    {
      "cell_type": "code",
      "source": [
        "# Display initial information\n",
        "print(\"Initial Data Overview:\")\n",
        "print(df.head())\n",
        "print(\"\\nData Types:\")\n",
        "print(df.dtypes)\n",
        "print(\"\\nMissing Values:\")\n",
        "print(df.isnull().sum())\n",
        "print(\"\\nDataset Shape:\", df.shape)\n"
      ],
      "metadata": {
        "colab": {
          "base_uri": "https://localhost:8080/"
        },
        "id": "izt55Evhh0KO",
        "outputId": "7a8f2124-3215-4991-99ce-15c0cccb3bb6"
      },
      "execution_count": 5,
      "outputs": [
        {
          "output_type": "stream",
          "name": "stdout",
          "text": [
            "Initial Data Overview:\n",
            "   Customer_ID    Name   Age Gender  Purchase_Amount Signup_Date  \\\n",
            "0         1001     Bob  38.0      M           479.53  2022/02/15   \n",
            "1         1002  Hannah  37.0      M           228.16  2022/02/15   \n",
            "2         1003     Bob  46.0      F           175.53  2022-04-25   \n",
            "3         1004   Frank  29.0      F           402.90  2022-01-10   \n",
            "4         1005     Bob  24.0      F           389.88  15-03-2022   \n",
            "\n",
            "  Membership_Status  \n",
            "0          Inactive  \n",
            "1            Active  \n",
            "2          INactive  \n",
            "3            Active  \n",
            "4            Active  \n",
            "\n",
            "Data Types:\n",
            "Customer_ID            int64\n",
            "Name                  object\n",
            "Age                  float64\n",
            "Gender                object\n",
            "Purchase_Amount      float64\n",
            "Signup_Date           object\n",
            "Membership_Status     object\n",
            "dtype: object\n",
            "\n",
            "Missing Values:\n",
            "Customer_ID            0\n",
            "Name                   0\n",
            "Age                  104\n",
            "Gender                 0\n",
            "Purchase_Amount      245\n",
            "Signup_Date            0\n",
            "Membership_Status      0\n",
            "dtype: int64\n",
            "\n",
            "Dataset Shape: (5200, 7)\n"
          ]
        }
      ]
    },
    {
      "cell_type": "code",
      "source": [
        "# Handling Missing Values\n",
        "print(\"\\nHandling Missing Values...\")\n",
        "df['Age'].fillna(df['Age'].median(), inplace=True)\n",
        "df['Purchase_Amount'].fillna(df['Purchase_Amount'].median(), inplace=True)\n",
        "print(\"Missing Values After Handling:\")\n",
        "print(df.isnull().sum())\n"
      ],
      "metadata": {
        "colab": {
          "base_uri": "https://localhost:8080/"
        },
        "id": "YyQhWV-_n1sO",
        "outputId": "6038926a-0a5d-4483-89c3-1c6e3f98302e"
      },
      "execution_count": 6,
      "outputs": [
        {
          "output_type": "stream",
          "name": "stdout",
          "text": [
            "\n",
            "Handling Missing Values...\n",
            "Missing Values After Handling:\n",
            "Customer_ID          0\n",
            "Name                 0\n",
            "Age                  0\n",
            "Gender               0\n",
            "Purchase_Amount      0\n",
            "Signup_Date          0\n",
            "Membership_Status    0\n",
            "dtype: int64\n"
          ]
        },
        {
          "output_type": "stream",
          "name": "stderr",
          "text": [
            "<ipython-input-6-22f02acb1532>:3: FutureWarning: A value is trying to be set on a copy of a DataFrame or Series through chained assignment using an inplace method.\n",
            "The behavior will change in pandas 3.0. This inplace method will never work because the intermediate object on which we are setting values always behaves as a copy.\n",
            "\n",
            "For example, when doing 'df[col].method(value, inplace=True)', try using 'df.method({col: value}, inplace=True)' or df[col] = df[col].method(value) instead, to perform the operation inplace on the original object.\n",
            "\n",
            "\n",
            "  df['Age'].fillna(df['Age'].median(), inplace=True)\n",
            "<ipython-input-6-22f02acb1532>:4: FutureWarning: A value is trying to be set on a copy of a DataFrame or Series through chained assignment using an inplace method.\n",
            "The behavior will change in pandas 3.0. This inplace method will never work because the intermediate object on which we are setting values always behaves as a copy.\n",
            "\n",
            "For example, when doing 'df[col].method(value, inplace=True)', try using 'df.method({col: value}, inplace=True)' or df[col] = df[col].method(value) instead, to perform the operation inplace on the original object.\n",
            "\n",
            "\n",
            "  df['Purchase_Amount'].fillna(df['Purchase_Amount'].median(), inplace=True)\n"
          ]
        }
      ]
    },
    {
      "cell_type": "code",
      "source": [
        "# Convert Signup_Date to a standard format\n",
        "df['Signup_Date'] = pd.to_datetime(df['Signup_Date'], errors='coerce')\n",
        "print(\"\\nConverted Signup_Date to datetime format.\")\n"
      ],
      "metadata": {
        "colab": {
          "base_uri": "https://localhost:8080/"
        },
        "id": "7VUSac7Wn8o9",
        "outputId": "cdca113a-9b21-4dd5-e7c6-3c9bec660b1b"
      },
      "execution_count": 7,
      "outputs": [
        {
          "output_type": "stream",
          "name": "stdout",
          "text": [
            "\n",
            "Converted Signup_Date to datetime format.\n"
          ]
        }
      ]
    },
    {
      "cell_type": "code",
      "source": [
        "# Remove duplicate records\n",
        "df.drop_duplicates(subset=['Customer_ID'], keep='first', inplace=True)\n",
        "print(\"\\nRemoved duplicate records. New shape:\", df.shape)\n"
      ],
      "metadata": {
        "id": "MYrQEbQtoAkZ"
      },
      "execution_count": null,
      "outputs": []
    },
    {
      "cell_type": "code",
      "source": [
        "# Standardizing Membership_Status text case\n",
        "df['Membership_Status'] = df['Membership_Status'].str.lower().str.capitalize()\n",
        "print(\"\\nStandardized Membership_Status column.\")\n"
      ],
      "metadata": {
        "colab": {
          "base_uri": "https://localhost:8080/"
        },
        "id": "k1B9t3EToE_h",
        "outputId": "d6f3d8ec-620d-404d-a40b-4b8e5bda4ffa"
      },
      "execution_count": 8,
      "outputs": [
        {
          "output_type": "stream",
          "name": "stdout",
          "text": [
            "\n",
            "Standardized Membership_Status column.\n"
          ]
        }
      ]
    },
    {
      "cell_type": "code",
      "source": [
        "# Detect and handle outliers using IQR\n",
        "Q1 = df['Purchase_Amount'].quantile(0.25)\n",
        "Q3 = df['Purchase_Amount'].quantile(0.75)\n",
        "IQR = Q3 - Q1\n",
        "lower_bound = Q1 - 1.5 * IQR\n",
        "upper_bound = Q3 + 1.5 * IQR\n",
        "df['Purchase_Amount'] = np.where(df['Purchase_Amount'] > upper_bound, upper_bound, df['Purchase_Amount'])\n",
        "df['Purchase_Amount'] = np.where(df['Purchase_Amount'] < lower_bound, lower_bound, df['Purchase_Amount'])\n",
        "print(\"\\nHandled outliers in Purchase_Amount.\")\n"
      ],
      "metadata": {
        "colab": {
          "base_uri": "https://localhost:8080/"
        },
        "id": "4r2R0v5HoJBj",
        "outputId": "3a337d3b-4bd8-4921-bd74-250bf48a45ed"
      },
      "execution_count": 9,
      "outputs": [
        {
          "output_type": "stream",
          "name": "stdout",
          "text": [
            "\n",
            "Handled outliers in Purchase_Amount.\n"
          ]
        }
      ]
    },
    {
      "cell_type": "code",
      "source": [
        "# Feature Engineering: Create Age Groups\n",
        "df['Age_Group'] = pd.cut(df['Age'], bins=[18, 25, 35, 45, 60, 80], labels=['18-25', '26-35', '36-45', '46-60', '61-80'])\n",
        "print(\"\\nCreated Age_Group column.\")\n"
      ],
      "metadata": {
        "colab": {
          "base_uri": "https://localhost:8080/"
        },
        "id": "E8DW_KiUoN6v",
        "outputId": "8cf8cd3f-fac4-418d-f99a-ada6f14745bc"
      },
      "execution_count": 10,
      "outputs": [
        {
          "output_type": "stream",
          "name": "stdout",
          "text": [
            "\n",
            "Created Age_Group column.\n"
          ]
        }
      ]
    },
    {
      "cell_type": "code",
      "source": [
        "# Data Aggregation: Calculate average purchase per age group\n",
        "age_group_avg = df.groupby('Age_Group')['Purchase_Amount'].mean()\n",
        "print(\"\\nAverage Purchase Amount per Age Group:\")\n",
        "print(age_group_avg)\n"
      ],
      "metadata": {
        "colab": {
          "base_uri": "https://localhost:8080/"
        },
        "id": "vBXybaT1oSly",
        "outputId": "a2fd9d0f-1346-4948-ce6b-28883e87416a"
      },
      "execution_count": 11,
      "outputs": [
        {
          "output_type": "stream",
          "name": "stdout",
          "text": [
            "\n",
            "Average Purchase Amount per Age Group:\n",
            "Age_Group\n",
            "18-25    518.808042\n",
            "26-35    526.920584\n",
            "36-45    525.997688\n",
            "46-60    527.673331\n",
            "61-80    528.952900\n",
            "Name: Purchase_Amount, dtype: float64\n"
          ]
        },
        {
          "output_type": "stream",
          "name": "stderr",
          "text": [
            "<ipython-input-11-0dab3ae2df1f>:2: FutureWarning: The default of observed=False is deprecated and will be changed to True in a future version of pandas. Pass observed=False to retain current behavior or observed=True to adopt the future default and silence this warning.\n",
            "  age_group_avg = df.groupby('Age_Group')['Purchase_Amount'].mean()\n"
          ]
        }
      ]
    },
    {
      "cell_type": "code",
      "source": [
        "# Normalization of Purchase_Amount (Min-Max Scaling)\n",
        "df['Purchase_Amount_Norm'] = (df['Purchase_Amount'] - df['Purchase_Amount'].min()) / (df['Purchase_Amount'].max() - df['Purchase_Amount'].min())\n",
        "print(\"\\nNormalized Purchase_Amount column.\")\n"
      ],
      "metadata": {
        "colab": {
          "base_uri": "https://localhost:8080/"
        },
        "id": "MNbJBPw9oXTd",
        "outputId": "1b1bf98b-d884-4acd-8a0f-bc7800f7c56e"
      },
      "execution_count": 12,
      "outputs": [
        {
          "output_type": "stream",
          "name": "stdout",
          "text": [
            "\n",
            "Normalized Purchase_Amount column.\n"
          ]
        }
      ]
    },
    {
      "cell_type": "code",
      "source": [
        "# Save the cleaned dataset\n",
        "df.to_csv(\"cleaned_large_customer_data.csv\", index=False)\n",
        "print(\"\\nData Wrangling Completed. Cleaned data saved as 'cleaned_large_customer_data.csv'.\")"
      ],
      "metadata": {
        "id": "RJ0c5AaOobFz"
      },
      "execution_count": null,
      "outputs": []
    }
  ]
}